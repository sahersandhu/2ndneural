{
 "cells": [
  {
   "cell_type": "code",
   "execution_count": 1,
   "metadata": {},
   "outputs": [
    {
     "name": "stdout",
     "output_type": "stream",
     "text": [
      " Please Enter the radius of a circle: 12\n",
      " Area Of a Circle = 452.16\n",
      " Circumference Of a Circle = 75.36\n"
     ]
    }
   ],
   "source": [
    "# Python Program to find Area Of Circle using Radius\n",
    "\n",
    "PI = 3.14\n",
    "radius = float(input(' Please Enter the radius of a circle: '))\n",
    "area = PI * radius * radius\n",
    "circumference = 2 * PI * radius\n",
    "\n",
    "print(\" Area Of a Circle = %.2f\" %area)\n",
    "print(\" Circumference Of a Circle = %.2f\" %circumference)"
   ]
  },
  {
   "cell_type": "code",
   "execution_count": 4,
   "metadata": {},
   "outputs": [
    {
     "name": "stdout",
     "output_type": "stream",
     "text": [
      " Please Enter the radius of a circle: 15\n",
      " Area Of a Circle = 15.20\n"
     ]
    }
   ],
   "source": [
    "# Python Program to find Area Of Circle\n",
    "#area=pi*r^2\n",
    "PI = 3.14\n",
    "radius = float(input(' Please Enter the radius of a circle: '))\n",
    "area = PI * r * r\n",
    "print(\" Area Of a Circle = %.2f\" %area)"
   ]
  },
  {
   "cell_type": "code",
   "execution_count": 3,
   "metadata": {},
   "outputs": [
    {
     "name": "stdout",
     "output_type": "stream",
     "text": [
      " Area Of a Circle = 15.20\n"
     ]
    }
   ],
   "source": [
    "# Python Program to find Area Of Circle\n",
    "#area=pi*r^2\n",
    "PI=3.14\n",
    "r=2.2\n",
    "area = PI * r * r\n",
    "print(\" Area Of a Circle = %.2f\" %area)"
   ]
  },
  {
   "cell_type": "code",
   "execution_count": 19,
   "metadata": {},
   "outputs": [
    {
     "name": "stdout",
     "output_type": "stream",
     "text": [
      " Area Of a Circle = 15.20\n"
     ]
    }
   ],
   "source": [
    "# Python Program to find Area Of Circle\n",
    "#area=pi*r^2\n",
    "PI=3.14\n",
    "def area_of_circle(PI,radius):\n",
    "    area=PI*radius*radius\n",
    "    return area\n",
    "radius = 2.2\n",
    "result=area_of_circle(PI,radius)\n",
    "print(\" Area Of a Circle = %.2f\" %result)"
   ]
  },
  {
   "cell_type": "code",
   "execution_count": 22,
   "metadata": {},
   "outputs": [
    {
     "name": "stdout",
     "output_type": "stream",
     "text": [
      " Area Of a Circle = 15.20\n"
     ]
    }
   ],
   "source": [
    "# Python Program to find Area Of Circle\n",
    "#area=pi*r^2\n",
    "PI=3.14\n",
    "def area_of_circle(PI,radius):\n",
    "    area=PI*radius*radius\n",
    "    return area\n",
    "r = [2.2,2.3]\n",
    "radius=r[0]\n",
    "result=area_of_circle(PI,radius)\n",
    "print(\" Area Of a Circle = %.2f\" %result)"
   ]
  },
  {
   "cell_type": "code",
   "execution_count": 31,
   "metadata": {},
   "outputs": [
    {
     "name": "stdout",
     "output_type": "stream",
     "text": [
      " Area Of a Rectangle = 400\n"
     ]
    }
   ],
   "source": [
    "#python program to find Area of rectangle\n",
    "#area=Length*Width\n",
    "Length=20\n",
    "def area_of_rectangle(Length,Width):\n",
    "    area=Length*Width\n",
    "    return area\n",
    "Width=20\n",
    "result=area_of_rectangle(Length,Width)\n",
    "print(\" Area Of a Rectangle = %d\" %result)\n",
    "\n"
   ]
  },
  {
   "cell_type": "code",
   "execution_count": 33,
   "metadata": {},
   "outputs": [
    {
     "name": "stdout",
     "output_type": "stream",
     "text": [
      " Area Of a Triangle = 2.53\n"
     ]
    }
   ],
   "source": [
    "#python program to find Area of triangle\n",
    " #tri_area = 0.5 * b * h\n",
    "\n",
    "Breadth=2.2\n",
    "def area_of_triangle(Height,Breadth):\n",
    "    area=0.5*Breadth*Height\n",
    "    return area\n",
    "Height=2.3\n",
    "result=area_of_triangle(Height,Breadth)\n",
    "print(\" Area Of a Triangle = %.2f\" %result)\n"
   ]
  },
  {
   "cell_type": "code",
   "execution_count": 34,
   "metadata": {},
   "outputs": [
    {
     "name": "stdout",
     "output_type": "stream",
     "text": [
      "The area of the triangle is 2.90\n"
     ]
    }
   ],
   "source": [
    "#python program to find Area of Triangle\n",
    "# Three sides of the triangle is a, b and c:  \n",
    "a=2\n",
    "b=3\n",
    "c=4\n",
    "# calculate the semi-perimeter  \n",
    "s = (a + b + c) / 2  \n",
    "  \n",
    "# calculate the area  \n",
    "area = (s*(s-a)*(s-b)*(s-c)) ** 0.5  \n",
    "print('The area of the triangle is %0.2f' %area)  \n"
   ]
  },
  {
   "cell_type": "code",
   "execution_count": null,
   "metadata": {},
   "outputs": [],
   "source": []
  }
 ],
 "metadata": {
  "kernelspec": {
   "display_name": "Python 3",
   "language": "python",
   "name": "python3"
  },
  "language_info": {
   "codemirror_mode": {
    "name": "ipython",
    "version": 3
   },
   "file_extension": ".py",
   "mimetype": "text/x-python",
   "name": "python",
   "nbconvert_exporter": "python",
   "pygments_lexer": "ipython3",
   "version": "3.8.5"
  }
 },
 "nbformat": 4,
 "nbformat_minor": 4
}
