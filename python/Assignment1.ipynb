{
 "cells": [
  {
   "cell_type": "code",
   "execution_count": 7,
   "metadata": {},
   "outputs": [
    {
     "name": "stdout",
     "output_type": "stream",
     "text": [
      "elementwise_multiplication  = 400\n"
     ]
    }
   ],
   "source": [
    "#Define two  vectors of multiplication\n",
    "Vec_a=20\n",
    "def elementwise_multiplication(Vec_a,Vec_b):\n",
    "    multiple=Vec_a*Vec_b\n",
    "    return multiple\n",
    "Vec_b=20\n",
    "result=elementwise_multiplication(Vec_a,Vec_b)\n",
    "print(\"elementwise_multiplication  = %d\" %result)"
   ]
  },
  {
   "cell_type": "code",
   "execution_count": 8,
   "metadata": {},
   "outputs": [
    {
     "name": "stdout",
     "output_type": "stream",
     "text": [
      "elementwise_addition = 40\n"
     ]
    }
   ],
   "source": [
    "#Define two  vectors of Addition\n",
    "Vec_a=20\n",
    "def elementwise_addition(Vec_a,Vec_b):\n",
    "    add=Vec_a+Vec_b\n",
    "    return add\n",
    "Vec_b=20\n",
    "result=elementwise_addition(Vec_a,Vec_b)\n",
    "print(\"elementwise_addition = %d\" %result)"
   ]
  },
  {
   "cell_type": "code",
   "execution_count": 9,
   "metadata": {},
   "outputs": [
    {
     "name": "stdout",
     "output_type": "stream",
     "text": [
      "Sum of all elements in given list:  74\n"
     ]
    }
   ],
   "source": [
    "total = 0\n",
    " \n",
    "# creating a list\n",
    "list1 = [11, 5, 17, 18, 23]\n",
    " \n",
    "# Iterate each element in list\n",
    "# and add them in variale total\n",
    "for ele in range(0, len(list1)):\n",
    "    total = total + list1[ele]\n",
    "\n",
    "print(\"Sum of all elements in given list: \", total)"
   ]
  },
  {
   "cell_type": "code",
   "execution_count": 10,
   "metadata": {},
   "outputs": [
    {
     "name": "stdout",
     "output_type": "stream",
     "text": [
      "Sum of all elements in given list:  74\n"
     ]
    }
   ],
   "source": [
    "#define vector sum\n",
    "total = 0\n",
    " \n",
    "# creating a list\n",
    "Vec_a = [11, 5, 17, 18, 23]\n",
    " \n",
    "for ele in range(0, len(Vec_a)):\n",
    "    total = total + Vec_a[ele]\n",
    "\n",
    "print(\"Sum of all elements in given list: \", total)"
   ]
  },
  {
   "cell_type": "code",
   "execution_count": 17,
   "metadata": {},
   "outputs": [
    {
     "name": "stdout",
     "output_type": "stream",
     "text": [
      "Sum of all elements in given list:  74\n"
     ]
    }
   ],
   "source": [
    "#define vector sum\n",
    "Vec_a = [11, 5, 17, 18, 23]\n",
    "def vector_sum(Vec_a):\n",
    "    sum=Vec_a[0]+Vec_a[1]+Vec_a[2]+Vec_a[3]+Vec_a[4]\n",
    "    return sum\n",
    "sum=vector_sum(Vec_a)\n",
    "print(\"Sum of all elements in given list: \",sum )   \n"
   ]
  },
  {
   "cell_type": "code",
   "execution_count": 22,
   "metadata": {},
   "outputs": [
    {
     "name": "stdout",
     "output_type": "stream",
     "text": [
      "Average of all elements in given list:  14.8\n"
     ]
    }
   ],
   "source": [
    "#define vector average\n",
    "Vec_a = [11, 5, 17, 18, 23]\n",
    "n=5\n",
    "def vector_average(Vec_a):\n",
    "    sum=Vec_a[0]+Vec_a[1]+Vec_a[2]+Vec_a[3]+Vec_a[4]\n",
    "    average=sum/n\n",
    "    return average\n",
    "average=vector_average(Vec_a)\n",
    "print(\"Average of all elements in given list: \",average )   \n"
   ]
  },
  {
   "cell_type": "code",
   "execution_count": 32,
   "metadata": {},
   "outputs": [
    {
     "ename": "IndentationError",
     "evalue": "unindent does not match any outer indentation level (<tokenize>, line 9)",
     "output_type": "error",
     "traceback": [
      "\u001b[1;36m  File \u001b[1;32m\"<tokenize>\"\u001b[1;36m, line \u001b[1;32m9\u001b[0m\n\u001b[1;33m    sum = sum + Vec_a[ele]\u001b[0m\n\u001b[1;37m    ^\u001b[0m\n\u001b[1;31mIndentationError\u001b[0m\u001b[1;31m:\u001b[0m unindent does not match any outer indentation level\n"
     ]
    }
   ],
   "source": [
    "#define vector average\n",
    "total = 0\n",
    " \n",
    "# creating a list\n",
    "Vec_a = [11, 5, 17, 18, 23]\n",
    "n=5\n",
    " def vector_average(Vec_a):\n",
    "        for ele in range(0, len(Vec_a)):\n",
    "    sum = sum + Vec_a[ele]\n",
    "        average=sum/n\n",
    "    return average\n",
    "average=vector_average(Vec_a)\n",
    "print(\"Average of all elements in given list: \",average)\n",
    "        \n"
   ]
  },
  {
   "cell_type": "code",
   "execution_count": null,
   "metadata": {},
   "outputs": [],
   "source": []
  }
 ],
 "metadata": {
  "kernelspec": {
   "display_name": "Python 3",
   "language": "python",
   "name": "python3"
  },
  "language_info": {
   "codemirror_mode": {
    "name": "ipython",
    "version": 3
   },
   "file_extension": ".py",
   "mimetype": "text/x-python",
   "name": "python",
   "nbconvert_exporter": "python",
   "pygments_lexer": "ipython3",
   "version": "3.8.5"
  }
 },
 "nbformat": 4,
 "nbformat_minor": 4
}
